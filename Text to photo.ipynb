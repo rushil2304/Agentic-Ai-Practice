{
 "cells": [
  {
   "cell_type": "code",
   "execution_count": 3,
   "id": "9c7c9d56",
   "metadata": {},
   "outputs": [
    {
     "name": "stdout",
     "output_type": "stream",
     "text": [
      "Requirement already satisfied: diffusers in c:\\users\\rushil\\appdata\\local\\programs\\python\\python312\\lib\\site-packages (0.33.1)\n",
      "Requirement already satisfied: transformers in c:\\users\\rushil\\appdata\\local\\programs\\python\\python312\\lib\\site-packages (4.51.3)\n",
      "Requirement already satisfied: accelerate in c:\\users\\rushil\\appdata\\local\\programs\\python\\python312\\lib\\site-packages (1.6.0)\n",
      "Requirement already satisfied: torch in c:\\users\\rushil\\appdata\\local\\programs\\python\\python312\\lib\\site-packages (2.7.0)\n",
      "Requirement already satisfied: helium in c:\\users\\rushil\\appdata\\local\\programs\\python\\python312\\lib\\site-packages (5.1.1)\n",
      "Requirement already satisfied: smolagents in c:\\users\\rushil\\appdata\\local\\programs\\python\\python312\\lib\\site-packages (1.15.0)\n",
      "Requirement already satisfied: wikipedia in c:\\users\\rushil\\appdata\\local\\programs\\python\\python312\\lib\\site-packages (1.4.0)\n",
      "Requirement already satisfied: pytube in c:\\users\\rushil\\appdata\\local\\programs\\python\\python312\\lib\\site-packages (15.0.0)\n",
      "Requirement already satisfied: duckduckgo_search in c:\\users\\rushil\\appdata\\local\\programs\\python\\python312\\lib\\site-packages (8.0.2)\n",
      "Requirement already satisfied: importlib-metadata in c:\\users\\rushil\\appdata\\local\\programs\\python\\python312\\lib\\site-packages (from diffusers) (8.6.1)\n",
      "Requirement already satisfied: filelock in c:\\users\\rushil\\appdata\\local\\programs\\python\\python312\\lib\\site-packages (from diffusers) (3.18.0)\n",
      "Requirement already satisfied: huggingface-hub>=0.27.0 in c:\\users\\rushil\\appdata\\local\\programs\\python\\python312\\lib\\site-packages (from diffusers) (0.31.2)\n",
      "Requirement already satisfied: numpy in c:\\users\\rushil\\appdata\\local\\programs\\python\\python312\\lib\\site-packages (from diffusers) (2.2.5)\n",
      "Requirement already satisfied: regex!=2019.12.17 in c:\\users\\rushil\\appdata\\local\\programs\\python\\python312\\lib\\site-packages (from diffusers) (2024.11.6)\n",
      "Requirement already satisfied: requests in c:\\users\\rushil\\appdata\\local\\programs\\python\\python312\\lib\\site-packages (from diffusers) (2.32.3)\n",
      "Requirement already satisfied: safetensors>=0.3.1 in c:\\users\\rushil\\appdata\\local\\programs\\python\\python312\\lib\\site-packages (from diffusers) (0.5.3)\n",
      "Requirement already satisfied: Pillow in c:\\users\\rushil\\appdata\\local\\programs\\python\\python312\\lib\\site-packages (from diffusers) (11.2.1)\n",
      "Requirement already satisfied: packaging>=20.0 in c:\\users\\rushil\\appdata\\local\\programs\\python\\python312\\lib\\site-packages (from transformers) (24.2)\n",
      "Requirement already satisfied: pyyaml>=5.1 in c:\\users\\rushil\\appdata\\local\\programs\\python\\python312\\lib\\site-packages (from transformers) (6.0.2)\n",
      "Requirement already satisfied: tokenizers<0.22,>=0.21 in c:\\users\\rushil\\appdata\\local\\programs\\python\\python312\\lib\\site-packages (from transformers) (0.21.1)\n",
      "Requirement already satisfied: tqdm>=4.27 in c:\\users\\rushil\\appdata\\local\\programs\\python\\python312\\lib\\site-packages (from transformers) (4.67.1)\n",
      "Requirement already satisfied: psutil in c:\\users\\rushil\\appdata\\roaming\\python\\python312\\site-packages (from accelerate) (7.0.0)\n",
      "Requirement already satisfied: typing-extensions>=4.10.0 in c:\\users\\rushil\\appdata\\local\\programs\\python\\python312\\lib\\site-packages (from torch) (4.13.2)\n",
      "Requirement already satisfied: sympy>=1.13.3 in c:\\users\\rushil\\appdata\\local\\programs\\python\\python312\\lib\\site-packages (from torch) (1.14.0)\n",
      "Requirement already satisfied: networkx in c:\\users\\rushil\\appdata\\local\\programs\\python\\python312\\lib\\site-packages (from torch) (3.4.2)\n",
      "Requirement already satisfied: jinja2 in c:\\users\\rushil\\appdata\\local\\programs\\python\\python312\\lib\\site-packages (from torch) (3.1.6)\n",
      "Requirement already satisfied: fsspec in c:\\users\\rushil\\appdata\\local\\programs\\python\\python312\\lib\\site-packages (from torch) (2025.3.0)\n",
      "Requirement already satisfied: setuptools in c:\\users\\rushil\\appdata\\local\\programs\\python\\python312\\lib\\site-packages (from torch) (80.4.0)\n",
      "Requirement already satisfied: selenium>=4.16.0 in c:\\users\\rushil\\appdata\\local\\programs\\python\\python312\\lib\\site-packages (from helium) (4.32.0)\n",
      "Requirement already satisfied: rich>=13.9.4 in c:\\users\\rushil\\appdata\\local\\programs\\python\\python312\\lib\\site-packages (from smolagents) (14.0.0)\n",
      "Requirement already satisfied: python-dotenv in c:\\users\\rushil\\appdata\\local\\programs\\python\\python312\\lib\\site-packages (from smolagents) (1.1.0)\n",
      "Requirement already satisfied: openai>=1.58.1 in c:\\users\\rushil\\appdata\\local\\programs\\python\\python312\\lib\\site-packages (from smolagents) (1.78.1)\n",
      "Requirement already satisfied: beautifulsoup4 in c:\\users\\rushil\\appdata\\local\\programs\\python\\python312\\lib\\site-packages (from wikipedia) (4.13.4)\n",
      "Requirement already satisfied: click>=8.1.8 in c:\\users\\rushil\\appdata\\local\\programs\\python\\python312\\lib\\site-packages (from duckduckgo_search) (8.1.8)\n",
      "Requirement already satisfied: primp>=0.15.0 in c:\\users\\rushil\\appdata\\local\\programs\\python\\python312\\lib\\site-packages (from duckduckgo_search) (0.15.0)\n",
      "Requirement already satisfied: lxml>=5.3.0 in c:\\users\\rushil\\appdata\\local\\programs\\python\\python312\\lib\\site-packages (from duckduckgo_search) (5.4.0)\n",
      "Requirement already satisfied: colorama in c:\\users\\rushil\\appdata\\roaming\\python\\python312\\site-packages (from click>=8.1.8->duckduckgo_search) (0.4.6)\n",
      "Requirement already satisfied: MarkupSafe>=2.0 in c:\\users\\rushil\\appdata\\local\\programs\\python\\python312\\lib\\site-packages (from jinja2->torch) (3.0.2)\n",
      "Requirement already satisfied: anyio<5,>=3.5.0 in c:\\users\\rushil\\appdata\\local\\programs\\python\\python312\\lib\\site-packages (from openai>=1.58.1->smolagents) (4.9.0)\n",
      "Requirement already satisfied: distro<2,>=1.7.0 in c:\\users\\rushil\\appdata\\local\\programs\\python\\python312\\lib\\site-packages (from openai>=1.58.1->smolagents) (1.9.0)\n",
      "Requirement already satisfied: httpx<1,>=0.23.0 in c:\\users\\rushil\\appdata\\local\\programs\\python\\python312\\lib\\site-packages (from openai>=1.58.1->smolagents) (0.28.1)\n",
      "Requirement already satisfied: jiter<1,>=0.4.0 in c:\\users\\rushil\\appdata\\local\\programs\\python\\python312\\lib\\site-packages (from openai>=1.58.1->smolagents) (0.9.0)\n",
      "Requirement already satisfied: pydantic<3,>=1.9.0 in c:\\users\\rushil\\appdata\\local\\programs\\python\\python312\\lib\\site-packages (from openai>=1.58.1->smolagents) (2.11.4)\n",
      "Requirement already satisfied: sniffio in c:\\users\\rushil\\appdata\\local\\programs\\python\\python312\\lib\\site-packages (from openai>=1.58.1->smolagents) (1.3.1)\n",
      "Requirement already satisfied: charset-normalizer<4,>=2 in c:\\users\\rushil\\appdata\\local\\programs\\python\\python312\\lib\\site-packages (from requests->diffusers) (3.4.2)\n",
      "Requirement already satisfied: idna<4,>=2.5 in c:\\users\\rushil\\appdata\\local\\programs\\python\\python312\\lib\\site-packages (from requests->diffusers) (3.10)\n",
      "Requirement already satisfied: urllib3<3,>=1.21.1 in c:\\users\\rushil\\appdata\\local\\programs\\python\\python312\\lib\\site-packages (from requests->diffusers) (2.4.0)\n",
      "Requirement already satisfied: certifi>=2017.4.17 in c:\\users\\rushil\\appdata\\local\\programs\\python\\python312\\lib\\site-packages (from requests->diffusers) (2025.4.26)\n",
      "Requirement already satisfied: markdown-it-py>=2.2.0 in c:\\users\\rushil\\appdata\\local\\programs\\python\\python312\\lib\\site-packages (from rich>=13.9.4->smolagents) (3.0.0)\n",
      "Requirement already satisfied: pygments<3.0.0,>=2.13.0 in c:\\users\\rushil\\appdata\\roaming\\python\\python312\\site-packages (from rich>=13.9.4->smolagents) (2.19.1)\n",
      "Requirement already satisfied: trio~=0.17 in c:\\users\\rushil\\appdata\\local\\programs\\python\\python312\\lib\\site-packages (from selenium>=4.16.0->helium) (0.30.0)\n",
      "Requirement already satisfied: trio-websocket~=0.9 in c:\\users\\rushil\\appdata\\local\\programs\\python\\python312\\lib\\site-packages (from selenium>=4.16.0->helium) (0.12.2)\n",
      "Requirement already satisfied: websocket-client~=1.8 in c:\\users\\rushil\\appdata\\local\\programs\\python\\python312\\lib\\site-packages (from selenium>=4.16.0->helium) (1.8.0)\n",
      "Requirement already satisfied: mpmath<1.4,>=1.1.0 in c:\\users\\rushil\\appdata\\local\\programs\\python\\python312\\lib\\site-packages (from sympy>=1.13.3->torch) (1.3.0)\n",
      "Requirement already satisfied: soupsieve>1.2 in c:\\users\\rushil\\appdata\\local\\programs\\python\\python312\\lib\\site-packages (from beautifulsoup4->wikipedia) (2.7)\n",
      "Requirement already satisfied: zipp>=3.20 in c:\\users\\rushil\\appdata\\local\\programs\\python\\python312\\lib\\site-packages (from importlib-metadata->diffusers) (3.21.0)\n",
      "Requirement already satisfied: httpcore==1.* in c:\\users\\rushil\\appdata\\local\\programs\\python\\python312\\lib\\site-packages (from httpx<1,>=0.23.0->openai>=1.58.1->smolagents) (1.0.9)\n",
      "Requirement already satisfied: h11>=0.16 in c:\\users\\rushil\\appdata\\local\\programs\\python\\python312\\lib\\site-packages (from httpcore==1.*->httpx<1,>=0.23.0->openai>=1.58.1->smolagents) (0.16.0)\n",
      "Requirement already satisfied: mdurl~=0.1 in c:\\users\\rushil\\appdata\\local\\programs\\python\\python312\\lib\\site-packages (from markdown-it-py>=2.2.0->rich>=13.9.4->smolagents) (0.1.2)\n",
      "Requirement already satisfied: annotated-types>=0.6.0 in c:\\users\\rushil\\appdata\\local\\programs\\python\\python312\\lib\\site-packages (from pydantic<3,>=1.9.0->openai>=1.58.1->smolagents) (0.7.0)\n",
      "Requirement already satisfied: pydantic-core==2.33.2 in c:\\users\\rushil\\appdata\\local\\programs\\python\\python312\\lib\\site-packages (from pydantic<3,>=1.9.0->openai>=1.58.1->smolagents) (2.33.2)\n",
      "Requirement already satisfied: typing-inspection>=0.4.0 in c:\\users\\rushil\\appdata\\local\\programs\\python\\python312\\lib\\site-packages (from pydantic<3,>=1.9.0->openai>=1.58.1->smolagents) (0.4.0)\n",
      "Requirement already satisfied: attrs>=23.2.0 in c:\\users\\rushil\\appdata\\local\\programs\\python\\python312\\lib\\site-packages (from trio~=0.17->selenium>=4.16.0->helium) (25.3.0)\n",
      "Requirement already satisfied: sortedcontainers in c:\\users\\rushil\\appdata\\local\\programs\\python\\python312\\lib\\site-packages (from trio~=0.17->selenium>=4.16.0->helium) (2.4.0)\n",
      "Requirement already satisfied: outcome in c:\\users\\rushil\\appdata\\local\\programs\\python\\python312\\lib\\site-packages (from trio~=0.17->selenium>=4.16.0->helium) (1.3.0.post0)\n",
      "Requirement already satisfied: cffi>=1.14 in c:\\users\\rushil\\appdata\\local\\programs\\python\\python312\\lib\\site-packages (from trio~=0.17->selenium>=4.16.0->helium) (1.17.1)\n",
      "Requirement already satisfied: wsproto>=0.14 in c:\\users\\rushil\\appdata\\local\\programs\\python\\python312\\lib\\site-packages (from trio-websocket~=0.9->selenium>=4.16.0->helium) (1.2.0)\n",
      "Requirement already satisfied: pysocks!=1.5.7,<2.0,>=1.5.6 in c:\\users\\rushil\\appdata\\local\\programs\\python\\python312\\lib\\site-packages (from urllib3<3,>=1.21.1->requests->diffusers) (1.7.1)\n",
      "Requirement already satisfied: pycparser in c:\\users\\rushil\\appdata\\local\\programs\\python\\python312\\lib\\site-packages (from cffi>=1.14->trio~=0.17->selenium>=4.16.0->helium) (2.22)\n",
      "Note: you may need to restart the kernel to use updated packages.\n"
     ]
    },
    {
     "name": "stderr",
     "output_type": "stream",
     "text": [
      "\n",
      "[notice] A new release of pip is available: 23.2.1 -> 25.1.1\n",
      "[notice] To update, run: python.exe -m pip install --upgrade pip\n"
     ]
    }
   ],
   "source": [
    "\n",
    "%pip install diffusers transformers accelerate torch helium smolagents smolagents[openai] wikipedia pytube duckduckgo_search\n",
    "\n"
   ]
  },
  {
   "cell_type": "code",
   "execution_count": 1,
   "id": "9438bfaa",
   "metadata": {},
   "outputs": [
    {
     "name": "stderr",
     "output_type": "stream",
     "text": [
      "Keyword arguments {'use_auth_token': None} are not expected by StableDiffusionPipeline and will be ignored.\n"
     ]
    },
    {
     "data": {
      "application/vnd.jupyter.widget-view+json": {
       "model_id": "44ad5e7f078d484cab876f3c48e92d57",
       "version_major": 2,
       "version_minor": 0
      },
      "text/plain": [
       "Loading pipeline components...:   0%|          | 0/7 [00:00<?, ?it/s]"
      ]
     },
     "metadata": {},
     "output_type": "display_data"
    },
    {
     "name": "stdout",
     "output_type": "stream",
     "text": [
      "[SmolAgent] Generating image for prompt: 'generate a image of a snow capped mountain'\n"
     ]
    },
    {
     "data": {
      "application/vnd.jupyter.widget-view+json": {
       "model_id": "019737718de34fea9aa24783dd3e3856",
       "version_major": 2,
       "version_minor": 0
      },
      "text/plain": [
       "  0%|          | 0/50 [00:00<?, ?it/s]"
      ]
     },
     "metadata": {},
     "output_type": "display_data"
    },
    {
     "name": "stdout",
     "output_type": "stream",
     "text": [
      "[SmolAgent] Image saved as 'generated_image.png'\n"
     ]
    }
   ],
   "source": [
    "from diffusers import StableDiffusionPipeline\n",
    "import torch\n",
    "import os\n",
    "from dotenv import load_dotenv\n",
    "\n",
    "# --- Load environment variables ---\n",
    "load_dotenv()\n",
    "HF_TOKEN = os.getenv(\"HF_TOKEN\")\n",
    "\n",
    "# --- Initialize pipeline ---\n",
    "pipe = StableDiffusionPipeline.from_pretrained(\n",
    "    \"runwayml/stable-diffusion-v1-5\",\n",
    "    torch_dtype=torch.float16 if torch.cuda.is_available() else torch.float32,\n",
    "    use_auth_token=HF_TOKEN\n",
    ")\n",
    "\n",
    "device = \"cuda\" if torch.cuda.is_available() else \"cpu\"\n",
    "pipe.to(device)\n",
    "\n",
    "# --- SmolAgent function ---\n",
    "def smolagent_generate(prompt: str, output_path: str = \"generated_image.png\"):\n",
    "    print(f\"[SmolAgent] Generating image for prompt: '{prompt}'\")\n",
    "    image = pipe(prompt).images[0]\n",
    "    image.save(output_path)\n",
    "    print(f\"[SmolAgent] Image saved as '{output_path}'\")\n",
    "\n",
    "# --- Example Usage ---\n",
    "if __name__ == \"__main__\":\n",
    "    user_prompt = input(\"Enter a prompt for SmolAgent to draw: \")\n",
    "    smolagent_generate(user_prompt)"
   ]
  },
  {
   "cell_type": "code",
   "execution_count": 26,
   "id": "46a81858",
   "metadata": {},
   "outputs": [],
   "source": [
    "from PIL import Image\n",
    "import requests\n",
    "from io import BytesIO\n",
    "\n",
    "image_urls = [\n",
    "    \"https://upload.wikimedia.org/wikipedia/commons/e/e8/The_Joker_at_Wax_Museum_Plus.jpg\", # Joker image\n",
    "    \"https://upload.wikimedia.org/wikipedia/en/9/98/Joker_%28DC_Comics_character%29.jpg\" # Joker image\n",
    "]\n",
    "\n",
    "images = []\n",
    "for url in image_urls:\n",
    "    headers = {\n",
    "        \"User-Agent\": \"Mozilla/5.0 (Windows NT 10.0; Win64; x64) AppleWebKit/537.36 (KHTML, like Gecko) Chrome/114.0.0.0 Safari/537.36\" \n",
    "    }\n",
    "    response = requests.get(url,headers=headers)\n",
    "    image = Image.open(BytesIO(response.content)).convert(\"RGB\")\n",
    "    images.append(image)"
   ]
  },
  {
   "cell_type": "code",
   "execution_count": 1,
   "id": "f441c5c8",
   "metadata": {},
   "outputs": [
    {
     "name": "stderr",
     "output_type": "stream",
     "text": [
      "Using a slow image processor as `use_fast` is unset and a slow processor was saved with this model. `use_fast=True` will be the default behavior in v4.52, even if the model was saved with a slow processor. This will result in minor differences in outputs. You'll still be able to use a slow processor with `use_fast=False`.\n"
     ]
    },
    {
     "name": "stdout",
     "output_type": "stream",
     "text": [
      "Status code: 200\n"
     ]
    },
    {
     "data": {
      "application/vnd.jupyter.widget-view+json": {
       "model_id": "c4a53f7e955f4eb79b72f9a7e1f98888",
       "version_major": 2,
       "version_minor": 0
      },
      "text/plain": [
       "Loading checkpoint shards:   0%|          | 0/2 [00:00<?, ?it/s]"
      ]
     },
     "metadata": {},
     "output_type": "display_data"
    },
    {
     "name": "stdout",
     "output_type": "stream",
     "text": [
      "Model output:\n",
      " a joker\n"
     ]
    }
   ],
   "source": [
    "import requests\n",
    "from PIL import Image\n",
    "from io import BytesIO\n",
    "import torch\n",
    "from transformers import Blip2Processor, Blip2ForConditionalGeneration\n",
    "import os\n",
    "\n",
    "# 1. Download image from Wikipedia direct image URL\n",
    "wiki_image_url = \"https://upload.wikimedia.org/wikipedia/commons/e/e8/The_Joker_at_Wax_Museum_Plus.jpg\"\n",
    "\n",
    "response = requests.get(wiki_image_url)\n",
    "print(\"Status code:\", response.status_code)\n",
    "if response.status_code != 200:\n",
    "    raise Exception(f\"Failed to download image: HTTP {response.status_code}\")\n",
    "\n",
    "try:\n",
    "    image = Image.open(BytesIO(response.content)).convert(\"RGB\")\n",
    "except Exception as e:\n",
    "    with open(\"downloaded_image.jpg\", \"wb\") as f:\n",
    "        f.write(response.content)\n",
    "    raise RuntimeError(\"Failed to open image. Saved as downloaded_image.jpg\") from e\n",
    "\n",
    "# 2. Load processor and model\n",
    "device = \"cuda\" if torch.cuda.is_available() else \"cpu\"\n",
    "processor = Blip2Processor.from_pretrained(\"Salesforce/blip2-flan-t5-xl\")\n",
    "model = Blip2ForConditionalGeneration.from_pretrained(\"Salesforce/blip2-flan-t5-xl\").to(device)\n",
    "\n",
    "# 3. Prepare inputs (image + prompt)\n",
    "prompt = (\n",
    "    \"Describe the costume and makeup that the comic character in these photos is wearing and return the description. \"\n",
    "    \"Tell me if the guest is The Joker or Wonder Woman.\"\n",
    ")\n",
    "\n",
    "inputs = processor(images=image, text=prompt, return_tensors=\"pt\").to(device)\n",
    "\n",
    "# 4. Generate output\n",
    "outputs = model.generate(**inputs, max_new_tokens=128)\n",
    "\n",
    "# 5. Decode and print description\n",
    "description = processor.decode(outputs[0], skip_special_tokens=True)\n",
    "print(\"Model output:\\n\", description)\n",
    "\n"
   ]
  },
  {
   "cell_type": "code",
   "execution_count": null,
   "id": "cb0c785c",
   "metadata": {},
   "outputs": [
    {
     "name": "stderr",
     "output_type": "stream",
     "text": [
      "Using a slow image processor as `use_fast` is unset and a slow processor was saved with this model. `use_fast=True` will be the default behavior in v4.52, even if the model was saved with a slow processor. This will result in minor differences in outputs. You'll still be able to use a slow processor with `use_fast=False`.\n"
     ]
    },
    {
     "name": "stdout",
     "output_type": "stream",
     "text": [
      "Status code: 200\n"
     ]
    },
    {
     "data": {
      "application/vnd.jupyter.widget-view+json": {
       "model_id": "e5c2cfae19fa4bb3b6f6b470603e51d8",
       "version_major": 2,
       "version_minor": 0
      },
      "text/plain": [
       "Loading checkpoint shards:   0%|          | 0/2 [00:00<?, ?it/s]"
      ]
     },
     "metadata": {},
     "output_type": "display_data"
    },
    {
     "name": "stdout",
     "output_type": "stream",
     "text": [
      "Model output:\n",
      " a joker\n",
      "Temporary image file deleted.\n"
     ]
    }
   ],
   "source": [
    "import requests\n",
    "from PIL import Image\n",
    "from io import BytesIO\n",
    "import torch\n",
    "from transformers import Blip2Processor, Blip2ForConditionalGeneration\n",
    "import os\n",
    "\n",
    "# 1. Download image from Wikipedia direct image URL\n",
    "wiki_image_url = \"https://upload.wikimedia.org/wikipedia/commons/e/e8/The_Joker_at_Wax_Museum_Plus.jpg\"\n",
    "\n",
    "response = requests.get(wiki_image_url)\n",
    "print(\"Status code:\", response.status_code)\n",
    "if response.status_code != 200:\n",
    "    raise Exception(f\"Failed to download image: HTTP {response.status_code}\")\n",
    "\n",
    "# 2. Try to open and save the image temporarily\n",
    "try:\n",
    "    image = Image.open(BytesIO(response.content)).convert(\"RGB\")\n",
    "    image.save(\"downloaded_image.jpg\")  \n",
    "except Exception as e:\n",
    "    raise RuntimeError(\"Failed to open or save image from URL.\") from e\n",
    "\n",
    "# 3. Load processor and model\n",
    "device = \"cuda\" if torch.cuda.is_available() else \"cpu\"\n",
    "processor = Blip2Processor.from_pretrained(\"Salesforce/blip2-flan-t5-xl\")\n",
    "model = Blip2ForConditionalGeneration.from_pretrained(\"Salesforce/blip2-flan-t5-xl\").to(device)\n",
    "\n",
    "# 4. Prepare inputs (image + prompt)\n",
    "prompt = (\n",
    "    \"Describe the costume and makeup that the comic character in these photos is wearing and return the description. \"\n",
    "    \"Tell me if the guest is The Joker or Wonder Woman.\"\n",
    ")\n",
    "inputs = processor(images=image, text=prompt, return_tensors=\"pt\").to(device)\n",
    "\n",
    "# 5. Generate output\n",
    "with torch.no_grad():\n",
    "    outputs = model.generate(**inputs, max_new_tokens=128)\n",
    "\n",
    "# 6. Decode and print description\n",
    "description = processor.decode(outputs[0], skip_special_tokens=True)\n",
    "print(\"Model output:\\n\", description)\n",
    "\n",
    "# 7. Delete the saved image after processing\n",
    "if os.path.exists(\"downloaded_image.jpg\"):\n",
    "    os.remove(\"downloaded_image.jpg\")\n",
    "    print(\"Temporary image file deleted.\")\n"
   ]
  },
  {
   "cell_type": "code",
   "execution_count": null,
   "id": "9224f82b",
   "metadata": {},
   "outputs": [],
   "source": [
    "import os\n",
    "\n",
    "if os.path.exists(\"downloaded_image.jpg\"):\n",
    "    os.remove(\"downloaded_image.jpg\")\n",
    "    print(\"Temporary image file deleted.\")"
   ]
  }
 ],
 "metadata": {
  "kernelspec": {
   "display_name": "Python 3",
   "language": "python",
   "name": "python3"
  },
  "language_info": {
   "codemirror_mode": {
    "name": "ipython",
    "version": 3
   },
   "file_extension": ".py",
   "mimetype": "text/x-python",
   "name": "python",
   "nbconvert_exporter": "python",
   "pygments_lexer": "ipython3",
   "version": "3.12.0"
  }
 },
 "nbformat": 4,
 "nbformat_minor": 5
}
