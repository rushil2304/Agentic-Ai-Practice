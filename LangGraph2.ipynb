{
 "cells": [
  {
   "cell_type": "code",
   "execution_count": 12,
   "id": "dea76724",
   "metadata": {},
   "outputs": [],
   "source": [
    "from transformers import pipeline\n",
    "from langgraph.graph import StateGraph\n",
    "import requests\n",
    "from bs4 import BeautifulSoup\n"
   ]
  },
  {
   "cell_type": "code",
   "execution_count": 13,
   "id": "62689ec3",
   "metadata": {},
   "outputs": [
    {
     "name": "stderr",
     "output_type": "stream",
     "text": [
      "Device set to use cpu\n"
     ]
    }
   ],
   "source": [
    "qa_pipeline = pipeline(\"question-answering\", model=\"distilbert-base-cased-distilled-squad\")"
   ]
  },
  {
   "cell_type": "code",
   "execution_count": 14,
   "id": "eb3d8468",
   "metadata": {},
   "outputs": [],
   "source": [
    "def crawl_web_content(url, max_paragraphs=10):\n",
    "    try:\n",
    "        response = requests.get(url, timeout=5)\n",
    "        soup = BeautifulSoup(response.content, 'html.parser')\n",
    "\n",
    "        # Extract and clean paragraph text\n",
    "        paragraphs = soup.find_all('p')\n",
    "        cleaned_text = \" \".join(p.get_text().strip() for p in paragraphs[:max_paragraphs])\n",
    "        return cleaned_text if cleaned_text else \"No relevant content found.\"\n",
    "    except Exception as e:\n",
    "        return f\"Failed to fetch content: {e}\""
   ]
  },
  {
   "cell_type": "code",
   "execution_count": 21,
   "id": "0ec53ab4",
   "metadata": {},
   "outputs": [],
   "source": [
    "def answer_question(state):\n",
    "    question = state['user_input']\n",
    "    context = state['context']  # No 'url' used here\n",
    "\n",
    "    if \"Failed to fetch\" in context or context.strip() == \"\":\n",
    "        return {\"user_input\": question, \"context\": context, \"answer\": \"Couldn't fetch relevant information from the URL.\"}\n",
    "\n",
    "    result = qa_pipeline(question=question, context=context)\n",
    "    return {\"user_input\": question, \"context\": context, \"answer\": result['answer']}\n",
    "\n",
    "# Dummy finish node\n",
    "def finish_node(state):\n",
    "    return state\n"
   ]
  },
  {
   "cell_type": "code",
   "execution_count": 22,
   "id": "78630635",
   "metadata": {},
   "outputs": [],
   "source": [
    "graph_builder = StateGraph(dict)\n",
    "graph_builder.add_node(\"Answer\", answer_question)\n",
    "graph_builder.set_entry_point(\"Answer\")\n",
    "graph_builder.set_finish_point(\"Finish\")\n",
    "graph_builder.add_edge(\"Answer\", \"Finish\")\n",
    "graph_builder.add_node(\"Finish\", lambda state: state)\n",
    "\n",
    "\n",
    "graph = graph_builder.compile()"
   ]
  },
  {
   "cell_type": "code",
   "execution_count": 23,
   "id": "b8048bbe",
   "metadata": {},
   "outputs": [
    {
     "name": "stdout",
     "output_type": "stream",
     "text": [
      "+-----------+  \n",
      "| __start__ |  \n",
      "+-----------+  \n",
      "      *        \n",
      "      *        \n",
      "      *        \n",
      "  +--------+   \n",
      "  | Answer |   \n",
      "  +--------+   \n",
      "      *        \n",
      "      *        \n",
      "      *        \n",
      "  +--------+   \n",
      "  | Finish |   \n",
      "  +--------+   \n",
      "      *        \n",
      "      *        \n",
      "      *        \n",
      " +---------+   \n",
      " | __end__ |   \n",
      " +---------+   \n"
     ]
    }
   ],
   "source": [
    "graph.get_graph().print_ascii()"
   ]
  },
  {
   "cell_type": "code",
   "execution_count": 25,
   "id": "5990ce07",
   "metadata": {},
   "outputs": [
    {
     "name": "stdout",
     "output_type": "stream",
     "text": [
      "\n",
      "Context loaded. You can now ask questions. Type 'exit' to quit.\n",
      "\n",
      "Question: what is langchain?\n",
      "Answer: a software framework\n",
      "\n",
      "Goodbye!See you next time.\n"
     ]
    }
   ],
   "source": [
    "if __name__ == \"__main__\":\n",
    "    url = input(\"Enter a website URL to search from (e.g., https://en.wikipedia.org/wiki/LangChain): \").strip()\n",
    "    context = crawl_web_content(url)\n",
    "\n",
    "    print(\"\\nContext loaded. You can now ask questions. Type 'exit' to quit.\\n\")\n",
    "    while True:\n",
    "        user_input = input(\"Ask a question: \")\n",
    "        if user_input.lower() in [\"exit\", \"quit\"]:\n",
    "            print(\"Goodbye!See you next time.\")\n",
    "            break\n",
    "        state = {\"user_input\": user_input, \"context\": context}\n",
    "        final_state = graph.invoke(state)\n",
    "        print(f\"Question: {user_input}\")\n",
    "        print(f\"Answer: {final_state['answer']}\\n\")"
   ]
  }
 ],
 "metadata": {
  "kernelspec": {
   "display_name": "Python 3",
   "language": "python",
   "name": "python3"
  },
  "language_info": {
   "codemirror_mode": {
    "name": "ipython",
    "version": 3
   },
   "file_extension": ".py",
   "mimetype": "text/x-python",
   "name": "python",
   "nbconvert_exporter": "python",
   "pygments_lexer": "ipython3",
   "version": "3.12.0"
  }
 },
 "nbformat": 4,
 "nbformat_minor": 5
}
